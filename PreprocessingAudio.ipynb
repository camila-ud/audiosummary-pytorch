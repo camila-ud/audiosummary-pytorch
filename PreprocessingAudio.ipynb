{
 "cells": [
  {
   "cell_type": "markdown",
   "metadata": {},
   "source": [
    "# Preprocessing\n",
    "## Normalization, envelope and resampling"
   ]
  },
  {
   "cell_type": "markdown",
   "metadata": {},
   "source": [
    "---\n",
    "## Test using sox\n",
    "\n",
    "Dependence : `conda install -c conda-forge sox`\n",
    "\n",
    "Repo : [github](https://github.com/pytorch/audio)\n",
    "`python setup.py install`"
   ]
  },
  {
   "cell_type": "markdown",
   "metadata": {},
   "source": [
    "`sudo apt-get install sox libsox-dev libsox-fmt-all`"
   ]
  },
  {
   "cell_type": "markdown",
   "metadata": {},
   "source": [
    "To convert file in bash, to convert un 'dossier' use `soundnet.utils audiopath_resample`\n",
    "\n",
    "# To convert a file :\n",
    "`sox input.wav -r 22050 -c 1 output.wav`"
   ]
  },
  {
   "cell_type": "code",
   "execution_count": 1,
   "metadata": {},
   "outputs": [],
   "source": [
    "import soundnet.utils as utils\n"
   ]
  },
  {
   "cell_type": "code",
   "execution_count": 2,
   "metadata": {},
   "outputs": [
    {
     "name": "stderr",
     "output_type": "stream",
     "text": [
      "\r",
      "  0%|          | 0/10 [00:00<?, ?it/s]"
     ]
    },
    {
     "name": "stdout",
     "output_type": "stream",
     "text": [
      "sox /home/brain/Desktop/BrainSongs/audiosummary_private/christopherocher/caroleeg_sess2.wav -r 22050 -c 1 audio22k/caroleeg_sess2_.wav\n"
     ]
    },
    {
     "name": "stderr",
     "output_type": "stream",
     "text": [
      "\r",
      " 10%|█         | 1/10 [00:01<00:09,  1.03s/it]"
     ]
    },
    {
     "name": "stdout",
     "output_type": "stream",
     "text": [
      "0\n",
      "sox /home/brain/Desktop/BrainSongs/audiosummary_private/christopherocher/caroleeg_sess4_1.wav -r 22050 -c 1 audio22k/caroleeg_sess4_1_.wav\n"
     ]
    },
    {
     "name": "stderr",
     "output_type": "stream",
     "text": [
      "\r",
      " 20%|██        | 2/10 [00:01<00:07,  1.05it/s]"
     ]
    },
    {
     "name": "stdout",
     "output_type": "stream",
     "text": [
      "0\n",
      "sox /home/brain/Desktop/BrainSongs/audiosummary_private/christopherocher/caroleeg_sess6.wav -r 22050 -c 1 audio22k/caroleeg_sess6_.wav\n"
     ]
    },
    {
     "name": "stderr",
     "output_type": "stream",
     "text": [
      "\r",
      " 30%|███       | 3/10 [00:03<00:08,  1.23s/it]"
     ]
    },
    {
     "name": "stdout",
     "output_type": "stream",
     "text": [
      "0\n",
      "sox /home/brain/Desktop/BrainSongs/audiosummary_private/christopherocher/caroleeg_perf1.wav -r 22050 -c 1 audio22k/caroleeg_perf1_.wav\n"
     ]
    },
    {
     "name": "stderr",
     "output_type": "stream",
     "text": [
      "\r",
      " 40%|████      | 4/10 [00:04<00:06,  1.15s/it]"
     ]
    },
    {
     "name": "stdout",
     "output_type": "stream",
     "text": [
      "0\n",
      "sox /home/brain/Desktop/BrainSongs/audiosummary_private/christopherocher/caroleeg_sess5_2.wav -r 22050 -c 1 audio22k/caroleeg_sess5_2_.wav\n"
     ]
    },
    {
     "name": "stderr",
     "output_type": "stream",
     "text": [
      "\r",
      " 50%|█████     | 5/10 [00:05<00:05,  1.11s/it]"
     ]
    },
    {
     "name": "stdout",
     "output_type": "stream",
     "text": [
      "0\n",
      "sox /home/brain/Desktop/BrainSongs/audiosummary_private/christopherocher/caroleeg_sess5_1.wav -r 22050 -c 1 audio22k/caroleeg_sess5_1_.wav\n"
     ]
    },
    {
     "name": "stderr",
     "output_type": "stream",
     "text": [
      "\r",
      " 60%|██████    | 6/10 [00:06<00:04,  1.02s/it]"
     ]
    },
    {
     "name": "stdout",
     "output_type": "stream",
     "text": [
      "0\n",
      "sox /home/brain/Desktop/BrainSongs/audiosummary_private/christopherocher/caroleeg_sess4_2.wav -r 22050 -c 1 audio22k/caroleeg_sess4_2_.wav\n"
     ]
    },
    {
     "name": "stderr",
     "output_type": "stream",
     "text": [
      "\r",
      " 70%|███████   | 7/10 [00:07<00:02,  1.10it/s]"
     ]
    },
    {
     "name": "stdout",
     "output_type": "stream",
     "text": [
      "0\n",
      "sox /home/brain/Desktop/BrainSongs/audiosummary_private/christopherocher/caroleeg_sess3.wav -r 22050 -c 1 audio22k/caroleeg_sess3_.wav\n"
     ]
    },
    {
     "name": "stderr",
     "output_type": "stream",
     "text": [
      "\r",
      " 80%|████████  | 8/10 [00:09<00:02,  1.21s/it]"
     ]
    },
    {
     "name": "stdout",
     "output_type": "stream",
     "text": [
      "0\n",
      "sox /home/brain/Desktop/BrainSongs/audiosummary_private/christopherocher/caroleeg_sess4_3.wav -r 22050 -c 1 audio22k/caroleeg_sess4_3_.wav\n"
     ]
    },
    {
     "name": "stderr",
     "output_type": "stream",
     "text": [
      "\r",
      " 90%|█████████ | 9/10 [00:09<00:01,  1.06s/it]"
     ]
    },
    {
     "name": "stdout",
     "output_type": "stream",
     "text": [
      "0\n",
      "sox /home/brain/Desktop/BrainSongs/audiosummary_private/christopherocher/caroleeg_perf2.wav -r 22050 -c 1 audio22k/caroleeg_perf2_.wav\n"
     ]
    },
    {
     "name": "stderr",
     "output_type": "stream",
     "text": [
      "\r",
      "100%|██████████| 10/10 [00:10<00:00,  1.09s/it]"
     ]
    },
    {
     "name": "stdout",
     "output_type": "stream",
     "text": [
      "0\n",
      "Audio saved in  audio22k\n"
     ]
    },
    {
     "name": "stderr",
     "output_type": "stream",
     "text": [
      "\n"
     ]
    }
   ],
   "source": [
    "audiopath = '/home/brain/Desktop/BrainSongs/audiosummary_private/christopherocher/'\n",
    "utils.audiopath_resample(audiopath)"
   ]
  },
  {
   "cell_type": "code",
   "execution_count": 7,
   "metadata": {},
   "outputs": [],
   "source": [
    "mask = envelope(X,sr)"
   ]
  },
  {
   "cell_type": "code",
   "execution_count": 10,
   "metadata": {},
   "outputs": [
    {
     "data": {
      "text/plain": [
       "<matplotlib.collections.PolyCollection at 0x7fd468c99cf8>"
      ]
     },
     "execution_count": 10,
     "metadata": {},
     "output_type": "execute_result"
    },
    {
     "data": {
      "image/png": "[encoded data removed]",
      "text/plain": [
       "<Figure size 1008x360 with 1 Axes>"
      ]
     },
     "metadata": {
      "needs_background": "light"
     },
     "output_type": "display_data"
    }
   ],
   "source": [
    "audio = X[mask]\n",
    "plt.figure(figsize=(14,5))\n",
    "librosa.display.waveplot(audio,sr)"
   ]
  },
  {
   "cell_type": "markdown",
   "metadata": {},
   "source": [
    "---"
   ]
  }
 ],
 "metadata": {
  "kernelspec": {
   "display_name": "Python 3",
   "language": "python",
   "name": "python3"
  },
  "language_info": {
   "codemirror_mode": {
    "name": "ipython",
    "version": 3
   },
   "file_extension": ".py",
   "mimetype": "text/x-python",
   "name": "python",
   "nbconvert_exporter": "python",
   "pygments_lexer": "ipython3",
   "version": "3.7.3"
  }
 },
 "nbformat": 4,
 "nbformat_minor": 2
}
